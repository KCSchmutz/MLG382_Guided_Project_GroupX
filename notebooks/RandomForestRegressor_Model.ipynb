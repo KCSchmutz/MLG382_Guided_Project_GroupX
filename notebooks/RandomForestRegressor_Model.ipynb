{
 "cells": [
  {
   "cell_type": "code",
   "execution_count": 1,
   "id": "0842485e",
   "metadata": {},
   "outputs": [
    {
     "name": "stdout",
     "output_type": "stream",
     "text": [
      "Random Forest:\n",
      "               precision    recall  f1-score   support\n",
      "\n",
      "         0.0       0.40      0.19      0.26        21\n",
      "         1.0       0.58      0.41      0.48        54\n",
      "         2.0       0.47      0.56      0.51        78\n",
      "         3.0       0.43      0.43      0.43        83\n",
      "         4.0       0.88      0.93      0.90       243\n",
      "\n",
      "    accuracy                           0.69       479\n",
      "   macro avg       0.55      0.50      0.52       479\n",
      "weighted avg       0.68      0.69      0.68       479\n",
      "\n",
      "Random Forest model saved to ../artifacts/RandomForestRegressor_model.pkl\n"
     ]
    }
   ],
   "source": [
    "#Importing required libraries\n",
    "import os\n",
    "import sys\n",
    "\n",
    "#Needed to launch the python file\n",
    "sys.path.append(os.path.abspath(\"../src\"))\n",
    "\n",
    "#Loading Python File\n",
    "from train_models import split_features_target, random_forest_model\n",
    "\n",
    "#Splits the dataset into training and test sets\n",
    "X_train, X_test, y_train, y_test = split_features_target('../artifacts/remodeled_data.csv')\n",
    "\n",
    "#Call the function deep_learning_model from train_models\n",
    "random_forest_model(X_train, y_train, X_test, y_test)\n",
    "\n",
    "\n"
   ]
  }
 ],
 "metadata": {
  "kernelspec": {
   "display_name": "base",
   "language": "python",
   "name": "python3"
  },
  "language_info": {
   "codemirror_mode": {
    "name": "ipython",
    "version": 3
   },
   "file_extension": ".py",
   "mimetype": "text/x-python",
   "name": "python",
   "nbconvert_exporter": "python",
   "pygments_lexer": "ipython3",
   "version": "3.12.7"
  }
 },
 "nbformat": 4,
 "nbformat_minor": 5
}
