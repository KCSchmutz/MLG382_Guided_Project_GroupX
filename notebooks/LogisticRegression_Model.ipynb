{
 "cells": [
  {
   "cell_type": "code",
   "execution_count": 1,
   "id": "dfcd3e67",
   "metadata": {},
   "outputs": [
    {
     "name": "stdout",
     "output_type": "stream",
     "text": [
      "Logistic Regression:\n",
      "               precision    recall  f1-score   support\n",
      "\n",
      "         0.0       0.33      0.19      0.24        21\n",
      "         1.0       0.51      0.37      0.43        54\n",
      "         2.0       0.50      0.65      0.57        78\n",
      "         3.0       0.55      0.45      0.49        83\n",
      "         4.0       0.89      0.95      0.92       243\n",
      "\n",
      "    accuracy                           0.71       479\n",
      "   macro avg       0.56      0.52      0.53       479\n",
      "weighted avg       0.70      0.71      0.70       479\n",
      "\n",
      "Logistic Regression model saved to ../artifacts/LogisticRegression_model.pkl\n"
     ]
    }
   ],
   "source": [
    "#Importing Required libraries\n",
    "import os\n",
    "import sys\n",
    "\n",
    "#Needed to launch the python file\n",
    "sys.path.append(os.path.abspath(\"../src\"))\n",
    "\n",
    "#Loading python file\n",
    "from train_models import split_features_target, logistic_regression_model\n",
    "\n",
    "\n",
    "#Splits the dataset into training and test sets\n",
    "X_train, X_test, y_train, y_test = split_features_target('../artifacts/remodeled_data.csv')\n",
    "\n",
    "#Call the function logistic_regression_model from train_models\n",
    "logistic_regression_model(X_train, y_train, X_test, y_test)\n",
    "\n"
   ]
  }
 ],
 "metadata": {
  "kernelspec": {
   "display_name": "base",
   "language": "python",
   "name": "python3"
  },
  "language_info": {
   "codemirror_mode": {
    "name": "ipython",
    "version": 3
   },
   "file_extension": ".py",
   "mimetype": "text/x-python",
   "name": "python",
   "nbconvert_exporter": "python",
   "pygments_lexer": "ipython3",
   "version": "3.12.7"
  }
 },
 "nbformat": 4,
 "nbformat_minor": 5
}
